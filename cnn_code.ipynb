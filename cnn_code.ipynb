{
  "cells": [
    {
      "cell_type": "markdown",
      "metadata": {
        "id": "view-in-github",
        "colab_type": "text"
      },
      "source": [
        "<a href=\"https://colab.research.google.com/github/deeptiishwar/CIP/blob/main/cnn_code.ipynb\" target=\"_parent\"><img src=\"https://colab.research.google.com/assets/colab-badge.svg\" alt=\"Open In Colab\"/></a>"
      ]
    },
    {
      "cell_type": "code",
      "execution_count": 4,
      "metadata": {
        "colab": {
          "base_uri": "https://localhost:8080/"
        },
        "id": "ewiwyZtnszOO",
        "outputId": "986d2034-562e-4879-938e-294e39403cf6"
      },
      "outputs": [
        {
          "output_type": "stream",
          "name": "stdout",
          "text": [
            "Mounted at /content/drive\n"
          ]
        }
      ],
      "source": [
        "from google.colab import drive\n",
        "drive.mount('/content/drive')"
      ]
    },
    {
      "cell_type": "code",
      "execution_count": 5,
      "metadata": {
        "id": "MwLZCmePs4LD"
      },
      "outputs": [],
      "source": [
        "import tensorflow as tf\n",
        "from tensorflow.keras.preprocessing.image import ImageDataGenerator\n",
        "from tensorflow.keras.applications import MobileNetV2\n",
        "from tensorflow.keras.layers import AveragePooling2D, Dropout, Flatten, Dense, Input\n",
        "from tensorflow.keras.models import Model\n",
        "from tensorflow.keras.optimizers import Adam"
      ]
    },
    {
      "cell_type": "code",
      "execution_count": 6,
      "metadata": {
        "id": "ztCQjs9TtpSA"
      },
      "outputs": [],
      "source": [
        "INIT_LR = 1e-4  # Initial Learning rate\n",
        "EPOCHS = 20     # Number of epochs to train\n",
        "BS = 32         # Batch size\n",
        "\n",
        "# Data paths\n",
        "train_dir = '/content/drive/MyDrive/data/train'\n",
        "val_dir = '/content/drive/MyDrive/data/test'\n"
      ]
    },
    {
      "cell_type": "code",
      "execution_count": 7,
      "metadata": {
        "colab": {
          "base_uri": "https://localhost:8080/"
        },
        "id": "U8ktqDp9uIZS",
        "outputId": "833855a6-0c30-4540-ca36-eb568119a262"
      },
      "outputs": [
        {
          "output_type": "stream",
          "name": "stdout",
          "text": [
            "Found 2637 images belonging to 2 classes.\n",
            "Found 660 images belonging to 2 classes.\n"
          ]
        },
        {
          "output_type": "stream",
          "name": "stderr",
          "text": [
            "WARNING:tensorflow:`input_shape` is undefined or non-square, or `rows` is not in [96, 128, 160, 192, 224]. Weights for input shape (224, 224) will be loaded as the default.\n"
          ]
        },
        {
          "output_type": "stream",
          "name": "stdout",
          "text": [
            "Downloading data from https://storage.googleapis.com/tensorflow/keras-applications/mobilenet_v2/mobilenet_v2_weights_tf_dim_ordering_tf_kernels_1.0_224_no_top.h5\n",
            "9406464/9406464 [==============================] - 0s 0us/step\n"
          ]
        }
      ],
      "source": [
        "train_datagen = ImageDataGenerator(\n",
        "    rescale=1./255,\n",
        "    rotation_range=20,\n",
        "    zoom_range=0.2,\n",
        "    width_shift_range=0.2,\n",
        "    height_shift_range=0.2,\n",
        "    shear_range=0.2,\n",
        "    horizontal_flip=True,\n",
        "    fill_mode=\"nearest\")\n",
        "\n",
        "val_datagen = ImageDataGenerator(rescale=1./255)\n",
        "\n",
        "# Data generators\n",
        "train_generator = train_datagen.flow_from_directory(\n",
        "    train_dir,\n",
        "    target_size=(224, 224),\n",
        "    batch_size=BS,\n",
        "    class_mode='binary')\n",
        "\n",
        "validation_generator = val_datagen.flow_from_directory(\n",
        "    val_dir,\n",
        "    target_size=(224, 224),\n",
        "    batch_size=BS,\n",
        "    class_mode='binary')\n",
        "\n",
        "# Load MobileNetV2\n",
        "baseModel = MobileNetV2(weights=\"imagenet\", include_top=False,\n",
        "    input_tensor=Input(shape=(224, 224, 3)))"
      ]
    },
    {
      "cell_type": "code",
      "execution_count": 8,
      "metadata": {
        "colab": {
          "base_uri": "https://localhost:8080/"
        },
        "id": "rzK6tPJLuXR2",
        "outputId": "ff4ebca0-d4a9-49f0-8323-719449e20145"
      },
      "outputs": [
        {
          "output_type": "stream",
          "name": "stdout",
          "text": [
            "Epoch 1/20\n",
            "83/83 [==============================] - 540s 6s/step - loss: 0.6192 - accuracy: 0.6553 - val_loss: 0.4754 - val_accuracy: 0.7788\n",
            "Epoch 2/20\n",
            "83/83 [==============================] - 207s 2s/step - loss: 0.4994 - accuracy: 0.7691 - val_loss: 0.4599 - val_accuracy: 0.7758\n",
            "Epoch 3/20\n",
            "83/83 [==============================] - 220s 3s/step - loss: 0.4567 - accuracy: 0.7865 - val_loss: 0.4053 - val_accuracy: 0.8258\n",
            "Epoch 4/20\n",
            "83/83 [==============================] - 213s 3s/step - loss: 0.4334 - accuracy: 0.8077 - val_loss: 0.3890 - val_accuracy: 0.8258\n",
            "Epoch 5/20\n",
            "83/83 [==============================] - 217s 3s/step - loss: 0.4234 - accuracy: 0.8085 - val_loss: 0.3798 - val_accuracy: 0.8455\n",
            "Epoch 6/20\n",
            "83/83 [==============================] - 229s 3s/step - loss: 0.4115 - accuracy: 0.8149 - val_loss: 0.3708 - val_accuracy: 0.8500\n",
            "Epoch 7/20\n",
            "83/83 [==============================] - 215s 3s/step - loss: 0.4053 - accuracy: 0.8111 - val_loss: 0.3642 - val_accuracy: 0.8485\n",
            "Epoch 8/20\n",
            "83/83 [==============================] - 213s 3s/step - loss: 0.3970 - accuracy: 0.8153 - val_loss: 0.3682 - val_accuracy: 0.8424\n",
            "Epoch 9/20\n",
            "83/83 [==============================] - 226s 3s/step - loss: 0.3800 - accuracy: 0.8275 - val_loss: 0.3570 - val_accuracy: 0.8500\n",
            "Epoch 10/20\n",
            "83/83 [==============================] - 201s 2s/step - loss: 0.3745 - accuracy: 0.8259 - val_loss: 0.3549 - val_accuracy: 0.8470\n",
            "Epoch 11/20\n",
            "83/83 [==============================] - 199s 2s/step - loss: 0.3793 - accuracy: 0.8149 - val_loss: 0.3499 - val_accuracy: 0.8545\n",
            "Epoch 12/20\n",
            "83/83 [==============================] - 213s 3s/step - loss: 0.3651 - accuracy: 0.8407 - val_loss: 0.3480 - val_accuracy: 0.8470\n",
            "Epoch 13/20\n",
            "83/83 [==============================] - 217s 3s/step - loss: 0.3629 - accuracy: 0.8335 - val_loss: 0.3422 - val_accuracy: 0.8530\n",
            "Epoch 14/20\n",
            "83/83 [==============================] - 203s 2s/step - loss: 0.3561 - accuracy: 0.8335 - val_loss: 0.3445 - val_accuracy: 0.8470\n",
            "Epoch 15/20\n",
            "83/83 [==============================] - 217s 3s/step - loss: 0.3649 - accuracy: 0.8350 - val_loss: 0.3423 - val_accuracy: 0.8515\n",
            "Epoch 16/20\n",
            "83/83 [==============================] - 199s 2s/step - loss: 0.3510 - accuracy: 0.8381 - val_loss: 0.3390 - val_accuracy: 0.8576\n",
            "Epoch 17/20\n",
            "83/83 [==============================] - 214s 3s/step - loss: 0.3510 - accuracy: 0.8373 - val_loss: 0.3365 - val_accuracy: 0.8545\n",
            "Epoch 18/20\n",
            "83/83 [==============================] - 215s 3s/step - loss: 0.3438 - accuracy: 0.8430 - val_loss: 0.3412 - val_accuracy: 0.8515\n",
            "Epoch 19/20\n",
            "83/83 [==============================] - 204s 2s/step - loss: 0.3447 - accuracy: 0.8347 - val_loss: 0.3417 - val_accuracy: 0.8470\n",
            "Epoch 20/20\n",
            "83/83 [==============================] - 250s 3s/step - loss: 0.3331 - accuracy: 0.8495 - val_loss: 0.3397 - val_accuracy: 0.8485\n"
          ]
        }
      ],
      "source": [
        "# Construct head of the model\n",
        "headModel = baseModel.output\n",
        "headModel = AveragePooling2D(pool_size=(7, 7))(headModel)\n",
        "headModel = Flatten(name=\"flatten\")(headModel)\n",
        "headModel = Dense(128, activation=\"relu\")(headModel)\n",
        "headModel = Dropout(0.5)(headModel)\n",
        "headModel = Dense(1, activation=\"sigmoid\")(headModel)\n",
        "\n",
        "# Place the head FC model on top of the base model\n",
        "model = Model(inputs=baseModel.input, outputs=headModel)\n",
        "\n",
        "# Freeze the base model layers\n",
        "for layer in baseModel.layers:\n",
        "    layer.trainable = False\n",
        "\n",
        "# Compile the model\n",
        "# Compile the model with Adam optimizer\n",
        "opt = Adam(learning_rate=INIT_LR)\n",
        "model.compile(loss=\"binary_crossentropy\", optimizer=opt, metrics=[\"accuracy\"])\n",
        "\n",
        "# Train the model\n",
        "history = model.fit(\n",
        "    train_generator,\n",
        "    steps_per_epoch=len(train_generator),\n",
        "    validation_data=validation_generator,\n",
        "    validation_steps=len(validation_generator),\n",
        "    epochs=EPOCHS)\n",
        "\n",
        "# Unfreeze some layers of the base model for fine-tuning\n",
        "for layer in baseModel.layers[100:]:\n",
        "    layer.trainable = True\n",
        "\n"
      ]
    },
    {
      "cell_type": "code",
      "execution_count": 10,
      "metadata": {
        "colab": {
          "base_uri": "https://localhost:8080/"
        },
        "id": "LHqXdGp_u8ar",
        "outputId": "38470b77-cda5-437c-c9b2-02eac57ce404"
      },
      "outputs": [
        {
          "output_type": "stream",
          "name": "stdout",
          "text": [
            "Epoch 20/30\n",
            "83/83 [==============================] - 296s 3s/step - loss: 0.4417 - accuracy: 0.7933 - val_loss: 2.1745 - val_accuracy: 0.5621\n",
            "Epoch 21/30\n",
            "83/83 [==============================] - 288s 3s/step - loss: 0.3388 - accuracy: 0.8506 - val_loss: 1.8412 - val_accuracy: 0.5682\n",
            "Epoch 22/30\n",
            "83/83 [==============================] - 278s 3s/step - loss: 0.2985 - accuracy: 0.8692 - val_loss: 1.9150 - val_accuracy: 0.5879\n",
            "Epoch 23/30\n",
            "83/83 [==============================] - 274s 3s/step - loss: 0.2555 - accuracy: 0.8889 - val_loss: 2.2548 - val_accuracy: 0.5848\n",
            "Epoch 24/30\n",
            "83/83 [==============================] - 276s 3s/step - loss: 0.2431 - accuracy: 0.8938 - val_loss: 1.3918 - val_accuracy: 0.6727\n",
            "Epoch 25/30\n",
            "83/83 [==============================] - 275s 3s/step - loss: 0.2064 - accuracy: 0.9162 - val_loss: 1.4891 - val_accuracy: 0.6667\n",
            "Epoch 26/30\n",
            "83/83 [==============================] - 275s 3s/step - loss: 0.2163 - accuracy: 0.9063 - val_loss: 1.7655 - val_accuracy: 0.6318\n",
            "Epoch 27/30\n",
            "83/83 [==============================] - 276s 3s/step - loss: 0.1817 - accuracy: 0.9245 - val_loss: 1.3840 - val_accuracy: 0.6636\n",
            "Epoch 28/30\n",
            "83/83 [==============================] - 273s 3s/step - loss: 0.1536 - accuracy: 0.9393 - val_loss: 1.2238 - val_accuracy: 0.7000\n",
            "Epoch 29/30\n",
            "83/83 [==============================] - 284s 3s/step - loss: 0.1628 - accuracy: 0.9306 - val_loss: 1.3869 - val_accuracy: 0.6879\n",
            "Epoch 30/30\n",
            "83/83 [==============================] - 277s 3s/step - loss: 0.1241 - accuracy: 0.9503 - val_loss: 1.6242 - val_accuracy: 0.7182\n"
          ]
        }
      ],
      "source": [
        "from tensorflow.keras.optimizers.legacy import Adam as AdamLegacy\n",
        "# Re-compile the model (necessary after modifications to the trainability)\n",
        "\n",
        "model.compile(loss=\"binary_crossentropy\", optimizer=AdamLegacy(learning_rate=INIT_LR, decay=INIT_LR / (EPOCHS * 10)), metrics=[\"accuracy\"])\n",
        "# Continue training (fine-tuning)\n",
        "fine_tune_epochs = 10\n",
        "total_epochs = EPOCHS + fine_tune_epochs\n",
        "history_fine = model.fit(\n",
        "    train_generator,\n",
        "    steps_per_epoch=len(train_generator),\n",
        "    validation_data=validation_generator,\n",
        "    validation_steps=len(validation_generator),\n",
        "    epochs=total_epochs,\n",
        "    initial_epoch=history.epoch[-1])"
      ]
    },
    {
      "cell_type": "code",
      "execution_count": 11,
      "metadata": {
        "id": "iSPwTBtYAT90",
        "colab": {
          "base_uri": "https://localhost:8080/"
        },
        "outputId": "3f26050a-2e0a-4b23-ab6c-3fb54a59367a"
      },
      "outputs": [
        {
          "output_type": "stream",
          "name": "stdout",
          "text": [
            "<class 'keras.src.engine.functional.Functional'>\n",
            "Fine-tuned TFLite model saved to: fine_tuned_model_malignant_benign_classification.tflite\n"
          ]
        }
      ],
      "source": [
        "import tensorflow as tf\n",
        "\n",
        "\n",
        "# Save the fine-tuned model in SavedModel format\n",
        "fine_tuned_model_dir = '/content/drive/MyDrive/data/hi'\n",
        "print(type(model))\n",
        "model.save(fine_tuned_model_dir)\n",
        "\n",
        "# Convert the fine-tuned SavedModel to TFLite model\n",
        "converter = tf.lite.TFLiteConverter.from_saved_model(fine_tuned_model_dir)\n",
        "tflite_model = converter.convert()\n",
        "\n",
        "# Save the TFLite model to a file\n",
        "tflite_model_file = 'fine_tuned_model_malignant_benign_classification.tflite'\n",
        "with open(tflite_model_file, 'wb') as f:\n",
        "    f.write(tflite_model)\n",
        "\n",
        "print(\"Fine-tuned TFLite model saved to:\", tflite_model_file)\n",
        "\n"
      ]
    },
    {
      "cell_type": "code",
      "source": [],
      "metadata": {
        "id": "bFTQ1ETBKf89"
      },
      "execution_count": null,
      "outputs": []
    }
  ],
  "metadata": {
    "colab": {
      "provenance": [],
      "authorship_tag": "ABX9TyN8LGySyLmFALl1W6cGrwTO",
      "include_colab_link": true
    },
    "kernelspec": {
      "display_name": "Python 3",
      "name": "python3"
    },
    "language_info": {
      "name": "python"
    }
  },
  "nbformat": 4,
  "nbformat_minor": 0
}